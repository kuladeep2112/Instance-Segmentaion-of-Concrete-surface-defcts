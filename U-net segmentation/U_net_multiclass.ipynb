{
  "nbformat": 4,
  "nbformat_minor": 0,
  "metadata": {
    "colab": {
      "provenance": []
    },
    "kernelspec": {
      "name": "python3",
      "display_name": "Python 3"
    },
    "language_info": {
      "name": "python"
    },
    "gpuClass": "standard",
    "accelerator": "GPU"
  },
  "cells": [
    {
      "cell_type": "code",
      "source": [
        "import pandas as pd\n",
        "import numpy as np\n",
        "from PIL import Image\n",
        "from PIL import ImageDraw"
      ],
      "metadata": {
        "id": "w7yyxWAjUWQH"
      },
      "execution_count": null,
      "outputs": []
    },
    {
      "cell_type": "code",
      "source": [
        "! wget --header=\"Host: doc-0k-10-docs.googleusercontent.com\" --header=\"User-Agent: Mozilla/5.0 (Macintosh; Intel Mac OS X 10_15_7) AppleWebKit/537.36 (KHTML, like Gecko) Chrome/108.0.0.0 Safari/537.36\" --header=\"Accept: text/html,application/xhtml+xml,application/xml;q=0.9,image/avif,image/webp,image/apng,*/*;q=0.8,application/signed-exchange;v=b3;q=0.9\" --header=\"Accept-Language: en-GB,en-US;q=0.9,en;q=0.8\" --header=\"Cookie: AUTH_dp1l4faf6942l4710tsq85u12bcjudim_nonce=le28q538c6hje\" --header=\"Connection: keep-alive\" \"https://doc-0k-10-docs.googleusercontent.com/docs/securesc/u8b87l5l6471r2lqtn6669a7q1d31ilr/ckmk1gi5ua0q9ga1h9ut1gf36fecma2n/1672724400000/00838855734384147432/00838855734384147432/14vb4ZGWx_wfJ1B0q5vCJkwX3MklES7qE?e=download&ax=ALjR8sxuJ7u9HRqUYQCTXHt8oH1MY8uxIhSWoY3ywNH5_Rl2KNy9MufQdhHn_cisTpZU-Gv6CLrrh-ozTc0K7XOSVW_5SuuEf8az4mCqntt_jgvnifx2_ZhLrnjn7O835RwrA8-Lx_paMsdlJ8YJgyQVnRPuSLn3v6qgMGmyv0s3TGDcYw7Y_aiQWTeC4yhc0xRdZqJvdTLX_GNRODrucrzW-7tbS70lg1JzLIwoC4NsBq1j0o_su8fRPqvpdlBK4_Ob1BZYHhMBOKuOXJxkhGhpxguzy_5t6hOOt7a0k9dYdfJvRc9p-3WUu3jH65C1rLu5QKanM4WY9l4LQOMdJgiopfARSHRpCDwkGIBaoKjWrBRvrNERXUIOYvlmSKNjTIYBMqw-FBgvT6w9015AvrsH4C5e5okBsz1BiAa4vURr0E73t1Dlg2s9rhAEzbHAFjNzB8l3WsVb2EA1b0dg-EK8ypye51QifO7nkcPq1f9dUxtufGdN56QteU7k7xbcdQjYM-LeAFHT78-7jusXad2sgoCB5JfFAgJwbyj3KeZExzz8clk3UGazkh8GKRLrShs81p-mKtwd_Wl8uTaETKHcQA6m3wiUoiAI1BhYkEmur9yjNMrWBvkaLqOU-MgjqfBLM7ZNyQoITVr_cbgcAAPqYV-d1DZf2QIY5Ql8PksUnaVpQwK-M15nXq6AZy3UPeaAg4hti_XvWmN2oDlUzLFkmKAuXg4yiY9luinxl6CtIyek45KR65nveNAbKCFZ8lRtdXfwC9BDRchNwp2H861kvNGl_Ek9ZF0lB0wTgDfUbFBMxaRvNMyVukDdUtjBcZF5fQysb_zOkKenGmNnbuuC6vDYE9T3CaZ3wCPBCgZiecNd-ewtKvN-DwJTAKaO_f5SB6aD1lDpi05CQ9CIMSggU0bftNYXkY5nNYPK1Df4FCIeRcBYfI2256wG_PA4hQXVpwe0Uw&uuid=d79a791a-7db5-49b1-81d2-407ca5cc78a6&authuser=0&nonce=le28q538c6hje&user=00838855734384147432&hash=mh9eadhlta0fu72mck7ir80ba7cdbl7t\" -c -O 'Surface_defects_on_concrete_structures.v1i.yolov7pytorch.zip'"
      ],
      "metadata": {
        "colab": {
          "base_uri": "https://localhost:8080/"
        },
        "id": "4_SLPnStDs3j",
        "outputId": "2127522b-b779-4b7e-a6f2-57cbe39701ff"
      },
      "execution_count": null,
      "outputs": [
        {
          "output_type": "stream",
          "name": "stdout",
          "text": [
            "--2023-01-03 05:41:53--  https://doc-0k-10-docs.googleusercontent.com/docs/securesc/u8b87l5l6471r2lqtn6669a7q1d31ilr/ckmk1gi5ua0q9ga1h9ut1gf36fecma2n/1672724400000/00838855734384147432/00838855734384147432/14vb4ZGWx_wfJ1B0q5vCJkwX3MklES7qE?e=download&ax=ALjR8sxuJ7u9HRqUYQCTXHt8oH1MY8uxIhSWoY3ywNH5_Rl2KNy9MufQdhHn_cisTpZU-Gv6CLrrh-ozTc0K7XOSVW_5SuuEf8az4mCqntt_jgvnifx2_ZhLrnjn7O835RwrA8-Lx_paMsdlJ8YJgyQVnRPuSLn3v6qgMGmyv0s3TGDcYw7Y_aiQWTeC4yhc0xRdZqJvdTLX_GNRODrucrzW-7tbS70lg1JzLIwoC4NsBq1j0o_su8fRPqvpdlBK4_Ob1BZYHhMBOKuOXJxkhGhpxguzy_5t6hOOt7a0k9dYdfJvRc9p-3WUu3jH65C1rLu5QKanM4WY9l4LQOMdJgiopfARSHRpCDwkGIBaoKjWrBRvrNERXUIOYvlmSKNjTIYBMqw-FBgvT6w9015AvrsH4C5e5okBsz1BiAa4vURr0E73t1Dlg2s9rhAEzbHAFjNzB8l3WsVb2EA1b0dg-EK8ypye51QifO7nkcPq1f9dUxtufGdN56QteU7k7xbcdQjYM-LeAFHT78-7jusXad2sgoCB5JfFAgJwbyj3KeZExzz8clk3UGazkh8GKRLrShs81p-mKtwd_Wl8uTaETKHcQA6m3wiUoiAI1BhYkEmur9yjNMrWBvkaLqOU-MgjqfBLM7ZNyQoITVr_cbgcAAPqYV-d1DZf2QIY5Ql8PksUnaVpQwK-M15nXq6AZy3UPeaAg4hti_XvWmN2oDlUzLFkmKAuXg4yiY9luinxl6CtIyek45KR65nveNAbKCFZ8lRtdXfwC9BDRchNwp2H861kvNGl_Ek9ZF0lB0wTgDfUbFBMxaRvNMyVukDdUtjBcZF5fQysb_zOkKenGmNnbuuC6vDYE9T3CaZ3wCPBCgZiecNd-ewtKvN-DwJTAKaO_f5SB6aD1lDpi05CQ9CIMSggU0bftNYXkY5nNYPK1Df4FCIeRcBYfI2256wG_PA4hQXVpwe0Uw&uuid=d79a791a-7db5-49b1-81d2-407ca5cc78a6&authuser=0&nonce=le28q538c6hje&user=00838855734384147432&hash=mh9eadhlta0fu72mck7ir80ba7cdbl7t\n",
            "Resolving doc-0k-10-docs.googleusercontent.com (doc-0k-10-docs.googleusercontent.com)... 74.125.68.132, 2404:6800:4003:c02::84\n",
            "Connecting to doc-0k-10-docs.googleusercontent.com (doc-0k-10-docs.googleusercontent.com)|74.125.68.132|:443... connected.\n",
            "HTTP request sent, awaiting response... 200 OK\n",
            "Length: 24385133 (23M) [application/zip]\n",
            "Saving to: ‘Surface_defects_on_concrete_structures.v1i.yolov7pytorch.zip’\n",
            "\n",
            "Surface_defects_on_ 100%[===================>]  23.25M  --.-KB/s    in 0.1s    \n",
            "\n",
            "2023-01-03 05:41:53 (181 MB/s) - ‘Surface_defects_on_concrete_structures.v1i.yolov7pytorch.zip’ saved [24385133/24385133]\n",
            "\n"
          ]
        }
      ]
    },
    {
      "cell_type": "code",
      "source": [
        "! unzip /content/Surface_defects_on_concrete_structures.v1i.yolov7pytorch.zip"
      ],
      "metadata": {
        "id": "yzcfmdImDwcK"
      },
      "execution_count": null,
      "outputs": []
    },
    {
      "cell_type": "code",
      "source": [
        "%%capture\n",
        "import os, zipfile\n",
        "os.makedirs(\"dataset\", exist_ok=True)"
      ],
      "metadata": {
        "id": "10ndMLUpCliX"
      },
      "execution_count": null,
      "outputs": []
    },
    {
      "cell_type": "code",
      "source": [
        "label_clr = {0:10, 1:20, 2:30}"
      ],
      "metadata": {
        "id": "QytqY3fX0-Zi"
      },
      "execution_count": null,
      "outputs": []
    },
    {
      "cell_type": "code",
      "source": [
        "! mkdir /content/dataset/train/masks\n",
        "! mkdir /content/dataset/test/masks\n",
        "! mkdir /content/dataset/valid/masks"
      ],
      "metadata": {
        "id": "FTpTpI7dJ-6Z"
      },
      "execution_count": null,
      "outputs": []
    },
    {
      "cell_type": "code",
      "source": [
        "for i in os.listdir('/content/dataset'):\n",
        "  for j in os.listdir('/content/dataset/'+i):\n",
        "    if j=='labels':\n",
        "      for k in os.listdir('/content/dataset/'+i+'/'+j):\n",
        "        path='/content/dataset/'+i+'/'+j+'/'+k\n",
        "        try:\n",
        "          data_df=pd.read_csv(path,sep=\"\\n\",header=None)\n",
        "          for l in data_df[0].str.split('\\n').values:\n",
        "            x=[]\n",
        "            y=[]\n",
        "            label=[]\n",
        "            for index,value in enumerate(l[0].split(' ')):\n",
        "              if index==0:\n",
        "                label.append(int(value))\n",
        "              elif index%2!=0:\n",
        "                x.append(int(float(value)*640))\n",
        "              else:\n",
        "                y.append(int(float(value)*640))\n",
        "            img = Image.new(\"RGB\", (640, 640))\n",
        "            img1 = ImageDraw.Draw(img)\n",
        "            img1.polygon(list(zip(x,y)), fill = label_clr[label[0]])\n",
        "            img=np.array(img)\n",
        "            im = Image.fromarray(img[:,:,0])\n",
        "            im.save('/content/dataset/'+i+'/'+'masks/'+path.split('/')[-1][:-3]+ \"png\")\n",
        "        except:\n",
        "            img = Image.new(\"RGB\", (640, 640))\n",
        "            img=np.array(img)\n",
        "            im = Image.fromarray(img[:,:,0])\n",
        "            im.save('/content/dataset/'+i+'/'+'masks/'+path.split('/')[-1][:-3]+ \"png\")\n"
      ],
      "metadata": {
        "id": "uM5-wCAj5w1k"
      },
      "execution_count": null,
      "outputs": []
    },
    {
      "cell_type": "code",
      "source": [
        "! pip3 install -U segmentation-models"
      ],
      "metadata": {
        "id": "YQOe9npvE6QB"
      },
      "execution_count": null,
      "outputs": []
    },
    {
      "cell_type": "code",
      "source": [
        "from tensorflow.keras import layers\n",
        "from tensorflow.keras.layers import Dense,Input,Conv2D,MaxPool2D,Activation,Dropout,Flatten, BatchNormalization, ReLU, Reshape\n",
        "import random as rn\n",
        "import cv2\n",
        "%load_ext tensorboard\n",
        "import tensorflow as tf\n",
        "from tensorflow.keras.models import Model\n",
        "from sklearn.model_selection import train_test_split\n",
        "import datetime\n",
        "import matplotlib.pyplot as plt"
      ],
      "metadata": {
        "id": "XEUT_RoXCDUf"
      },
      "execution_count": null,
      "outputs": []
    },
    {
      "cell_type": "code",
      "source": [
        "import segmentation_models as sm\n",
        "from segmentation_models import Unet\n",
        "sm.set_framework('tf.keras')\n",
        "tf.keras.backend.set_image_data_format('channels_last')"
      ],
      "metadata": {
        "colab": {
          "base_uri": "https://localhost:8080/"
        },
        "id": "ZVwT1RduCR0m",
        "outputId": "8fdc9685-6fc5-4ad7-daac-98c4451ff5eb"
      },
      "execution_count": null,
      "outputs": [
        {
          "output_type": "stream",
          "name": "stdout",
          "text": [
            "Segmentation Models: using `keras` framework.\n"
          ]
        }
      ]
    },
    {
      "cell_type": "code",
      "source": [
        "def return_file_names_df(root_dir):\n",
        "    filenames_img=[]\n",
        "    filenames_mask=[]\n",
        "    files=os.listdir(root_dir)\n",
        "    path1=root_dir+'/'+files[1]\n",
        "    path2=root_dir+'/'+files[2]\n",
        "    for i in sorted(os.listdir(path1)):\n",
        "      filenames_img.append(path1+'/'+str(i))\n",
        "    for i in sorted(os.listdir(path2)):\n",
        "      filenames_mask.append(path2+'/'+str(i))\n",
        "    data_df=pd.DataFrame(list(zip(filenames_img, filenames_mask)),\n",
        "              columns=['image','mask'])\n",
        "    return data_df"
      ],
      "metadata": {
        "id": "QH6tLJZ2Ew9c"
      },
      "execution_count": null,
      "outputs": []
    },
    {
      "cell_type": "code",
      "source": [
        "X_train        =return_file_names_df('/content/dataset/train')\n",
        "X_val          =return_file_names_df('/content/dataset/valid')\n",
        "X_test         =return_file_names_df('/content/dataset/test')\n"
      ],
      "metadata": {
        "id": "ZYJWgwB5EukB"
      },
      "execution_count": null,
      "outputs": []
    },
    {
      "cell_type": "code",
      "source": [
        "# loading the unet model and using the resnet 34 and initilized weights with imagenet weights\n",
        "# \"classes\" :different types of classes in the dataset\n",
        "model = Unet('resnet34', encoder_weights='imagenet', classes=3, activation='softmax',encoder_freeze=True,input_shape=(512,512,3))"
      ],
      "metadata": {
        "id": "m9HOFJq_RuO_"
      },
      "execution_count": 73,
      "outputs": []
    },
    {
      "cell_type": "code",
      "source": [
        "def normalize_mask(mask):\n",
        "    mask = mask//10\n",
        "    return mask"
      ],
      "metadata": {
        "id": "cPIgwytzRQax"
      },
      "execution_count": 71,
      "outputs": []
    },
    {
      "cell_type": "code",
      "source": [
        "class Dataset:\n",
        "  CLASSES = [i for i in range(3)]\n",
        "  def __init__(self, data_df1):\n",
        "\n",
        "        self.data = data_df1\n",
        "        # the paths of images\n",
        "        self.images_fps   = list(self.data['image'].values)\n",
        "        # the paths of segmentation images\n",
        "        self.masks_fps    = list(self.data['mask'].values)\n",
        "        # giving labels for each class\n",
        "        self.class_values = self.CLASSES\n",
        "  def __getitem__(self, i):\n",
        "        \n",
        "        # read data\n",
        "        image = cv2.imread(self.images_fps[i], cv2.IMREAD_UNCHANGED)\n",
        "        mask  = cv2.imread(self.masks_fps[i], cv2.IMREAD_UNCHANGED)\n",
        "        image_mask = normalize_mask(mask)/255.0\n",
        "        # image=normalize_image(image)\n",
        "        image= image/255.0\n",
        "        image_masks = [(image_mask == v) for v in self.class_values]\n",
        "        image_mask = np.stack(image_masks, axis=-1).astype('float')\n",
        "\n",
        "        #calculate the 50 percent of original dimensions\n",
        "        width = 512\n",
        "        height =512\n",
        "\n",
        "        # dsize\n",
        "        dsize = (width, height)\n",
        "\n",
        "        # resize image\n",
        "        image = cv2.resize(image, dsize,interpolation=cv2.INTER_NEAREST)\n",
        "        # image = cv2.cvtColor(image, cv2.COLOR_BGR2RGB)\n",
        "        image_mask = cv2.resize(image_mask,dsize,interpolation=cv2.INTER_NEAREST)            \n",
        "        return image, image_mask\n",
        "        \n",
        "  def __len__(self):\n",
        "        return len(self.data)\n",
        "    \n",
        "class Dataloder(tf.keras.utils.Sequence):    \n",
        "    def __init__(self, dataset, batch_size=1, shuffle=False):\n",
        "        self.dataset = dataset\n",
        "        self.batch_size = batch_size\n",
        "        self.shuffle = shuffle\n",
        "        self.indexes = np.arange(len(dataset))\n",
        "    def __getitem__(self, i):\n",
        "        \n",
        "        # collect batch data\n",
        "        start = i * self.batch_size\n",
        "        stop = (i + 1) * self.batch_size\n",
        "        data = []\n",
        "        for j in range(start, stop):\n",
        "            data.append(self.dataset[j])\n",
        "        \n",
        "        batch = [np.stack(samples, axis=0) for samples in zip(*data)]\n",
        "        return tuple(batch)\n",
        "    \n",
        "    def __len__(self):\n",
        "        return len(self.indexes) // self.batch_size\n",
        "    \n",
        "    def on_epoch_end(self):\n",
        "        if self.shuffle:\n",
        "            self.indexes = np.random.permutation(self.indexes)"
      ],
      "metadata": {
        "id": "HqqSObwGRQ74"
      },
      "execution_count": 72,
      "outputs": []
    },
    {
      "cell_type": "code",
      "source": [
        "# Dataset for train images\n",
        "train_dataset = Dataset(X_train)\n",
        "test_dataset  = Dataset(X_test)\n",
        "val_dataset=Dataset(X_val)\n",
        "\n",
        "BATCH_SIZE=1\n",
        "train_dataloader = Dataloder(train_dataset, batch_size=1, shuffle=True)\n",
        "test_dataloader = Dataloder(test_dataset, batch_size=1, shuffle=True)\n",
        "val_dataloader = Dataloder(val_dataset, batch_size=1, shuffle=True)\n",
        "print(train_dataloader[0][0].shape)\n",
        "assert train_dataloader[0][0].shape == (BATCH_SIZE, 512, 512, 3)\n",
        "assert train_dataloader[0][1].shape == (BATCH_SIZE, 512, 512, 3)"
      ],
      "metadata": {
        "colab": {
          "base_uri": "https://localhost:8080/"
        },
        "id": "aW1kquZYRdEq",
        "outputId": "f3790a51-5134-42b1-9bfc-d1f035b96774"
      },
      "execution_count": 74,
      "outputs": [
        {
          "output_type": "stream",
          "name": "stdout",
          "text": [
            "(1, 512, 512, 3)\n"
          ]
        }
      ]
    },
    {
      "cell_type": "code",
      "source": [
        "optim = tf.keras.optimizers.Adam(0.0001)\n",
        "\n",
        "focal_loss = sm.losses.cce_dice_loss\n",
        "\n",
        "# actulally total_loss can be imported directly from library, above example just show you how to manipulate with losses\n",
        "# total_loss = sm.losses.binary_focal_dice_loss \n",
        "# total_loss = sm.losses.categorical_focal_dice_loss \n",
        "\n",
        "model.compile(optim, focal_loss, metrics=[sm.metrics.IOUScore(threshold=0.5,smooth=0.01)])"
      ],
      "metadata": {
        "id": "PWdkK8NfRhUg"
      },
      "execution_count": 75,
      "outputs": []
    },
    {
      "cell_type": "code",
      "source": [
        "history = model.fit(train_dataloader, steps_per_epoch=len(train_dataloader), epochs=50,\\\n",
        "                              validation_data=val_dataloader, )"
      ],
      "metadata": {
        "colab": {
          "base_uri": "https://localhost:8080/"
        },
        "id": "9KOtUVHJRnaR",
        "outputId": "afa585aa-ca88-43e5-cd82-73c4e798d60c"
      },
      "execution_count": 76,
      "outputs": [
        {
          "output_type": "stream",
          "name": "stdout",
          "text": [
            "Epoch 1/50\n",
            "393/393 [==============================] - 59s 80ms/step - loss: 0.8599 - iou_score: 0.5791 - val_loss: 0.7196 - val_iou_score: 0.9859\n",
            "Epoch 2/50\n",
            "393/393 [==============================] - 31s 80ms/step - loss: 0.7096 - iou_score: 0.9647 - val_loss: 0.6854 - val_iou_score: 0.9859\n",
            "Epoch 3/50\n",
            "393/393 [==============================] - 33s 83ms/step - loss: 0.6969 - iou_score: 0.9647 - val_loss: 0.6794 - val_iou_score: 0.9859\n",
            "Epoch 4/50\n",
            "393/393 [==============================] - 31s 79ms/step - loss: 0.6934 - iou_score: 0.9647 - val_loss: 0.6773 - val_iou_score: 0.9859\n",
            "Epoch 5/50\n",
            "393/393 [==============================] - 30s 77ms/step - loss: 0.6919 - iou_score: 0.9647 - val_loss: 0.6759 - val_iou_score: 0.9859\n",
            "Epoch 6/50\n",
            "393/393 [==============================] - 30s 77ms/step - loss: 0.6911 - iou_score: 0.9639 - val_loss: 0.6753 - val_iou_score: 0.9859\n",
            "Epoch 7/50\n",
            "393/393 [==============================] - 30s 77ms/step - loss: 0.6907 - iou_score: 0.9579 - val_loss: 0.6750 - val_iou_score: 0.9859\n",
            "Epoch 8/50\n",
            "393/393 [==============================] - 30s 77ms/step - loss: 0.6904 - iou_score: 0.9605 - val_loss: 0.6747 - val_iou_score: 0.9859\n",
            "Epoch 9/50\n",
            "393/393 [==============================] - 30s 77ms/step - loss: 0.6902 - iou_score: 0.9639 - val_loss: 0.6745 - val_iou_score: 0.9859\n",
            "Epoch 10/50\n",
            "393/393 [==============================] - 30s 77ms/step - loss: 0.6901 - iou_score: 0.9622 - val_loss: 0.6744 - val_iou_score: 0.9859\n",
            "Epoch 11/50\n",
            "393/393 [==============================] - 30s 77ms/step - loss: 0.6900 - iou_score: 0.9647 - val_loss: 0.6743 - val_iou_score: 0.9859\n",
            "Epoch 12/50\n",
            "393/393 [==============================] - 30s 77ms/step - loss: 0.6899 - iou_score: 0.9630 - val_loss: 0.6743 - val_iou_score: 0.9859\n",
            "Epoch 13/50\n",
            "393/393 [==============================] - 30s 77ms/step - loss: 0.6898 - iou_score: 0.9647 - val_loss: 0.6742 - val_iou_score: 0.9859\n",
            "Epoch 14/50\n",
            "393/393 [==============================] - 30s 76ms/step - loss: 0.6898 - iou_score: 0.9647 - val_loss: 0.6741 - val_iou_score: 0.9859\n",
            "Epoch 15/50\n",
            "393/393 [==============================] - 30s 77ms/step - loss: 0.6898 - iou_score: 0.9647 - val_loss: 0.6741 - val_iou_score: 0.9859\n",
            "Epoch 16/50\n",
            "393/393 [==============================] - 30s 77ms/step - loss: 0.6897 - iou_score: 0.9647 - val_loss: 0.6741 - val_iou_score: 0.9859\n",
            "Epoch 17/50\n",
            "393/393 [==============================] - 30s 77ms/step - loss: 0.6897 - iou_score: 0.9647 - val_loss: 0.6740 - val_iou_score: 0.9859\n",
            "Epoch 18/50\n",
            "393/393 [==============================] - 30s 76ms/step - loss: 0.6897 - iou_score: 0.9647 - val_loss: 0.6740 - val_iou_score: 0.9859\n",
            "Epoch 19/50\n",
            "393/393 [==============================] - 30s 77ms/step - loss: 0.6897 - iou_score: 0.9647 - val_loss: 0.6740 - val_iou_score: 0.9859\n",
            "Epoch 20/50\n",
            "393/393 [==============================] - 30s 76ms/step - loss: 0.6897 - iou_score: 0.9647 - val_loss: 0.6740 - val_iou_score: 0.9859\n",
            "Epoch 21/50\n",
            "393/393 [==============================] - 30s 77ms/step - loss: 0.6897 - iou_score: 0.9647 - val_loss: 0.6740 - val_iou_score: 0.9859\n",
            "Epoch 22/50\n",
            "393/393 [==============================] - 30s 76ms/step - loss: 0.6897 - iou_score: 0.9647 - val_loss: 0.6740 - val_iou_score: 0.9859\n",
            "Epoch 23/50\n",
            "393/393 [==============================] - 30s 76ms/step - loss: 0.6897 - iou_score: 0.9647 - val_loss: 0.6740 - val_iou_score: 0.9859\n",
            "Epoch 24/50\n",
            "393/393 [==============================] - 31s 78ms/step - loss: 0.6897 - iou_score: 0.9647 - val_loss: 0.6740 - val_iou_score: 0.9859\n",
            "Epoch 25/50\n",
            "393/393 [==============================] - 30s 77ms/step - loss: 0.6897 - iou_score: 0.9647 - val_loss: 0.6740 - val_iou_score: 0.9859\n",
            "Epoch 26/50\n",
            "393/393 [==============================] - 30s 76ms/step - loss: 0.6897 - iou_score: 0.9647 - val_loss: 0.6740 - val_iou_score: 0.9859\n",
            "Epoch 27/50\n",
            "393/393 [==============================] - 30s 76ms/step - loss: 0.6897 - iou_score: 0.9647 - val_loss: 0.6740 - val_iou_score: 0.9859\n",
            "Epoch 28/50\n",
            "393/393 [==============================] - 30s 77ms/step - loss: 0.6896 - iou_score: 0.9647 - val_loss: 0.6740 - val_iou_score: 0.9859\n",
            "Epoch 29/50\n",
            "393/393 [==============================] - 30s 77ms/step - loss: 0.6896 - iou_score: 0.9647 - val_loss: 0.6740 - val_iou_score: 0.9859\n",
            "Epoch 30/50\n",
            "393/393 [==============================] - 30s 77ms/step - loss: 0.6896 - iou_score: 0.9647 - val_loss: 0.6739 - val_iou_score: 0.9859\n",
            "Epoch 31/50\n",
            "393/393 [==============================] - 30s 77ms/step - loss: 0.3579 - iou_score: 0.9647 - val_loss: 0.0157 - val_iou_score: 0.9859\n",
            "Epoch 32/50\n",
            "393/393 [==============================] - 30s 77ms/step - loss: 0.0246 - iou_score: 0.9647 - val_loss: 0.0083 - val_iou_score: 0.9859\n",
            "Epoch 33/50\n",
            "393/393 [==============================] - 30s 77ms/step - loss: 0.0237 - iou_score: 0.9647 - val_loss: 0.0078 - val_iou_score: 0.9859\n",
            "Epoch 34/50\n",
            "393/393 [==============================] - 31s 78ms/step - loss: 0.0234 - iou_score: 0.9647 - val_loss: 0.0077 - val_iou_score: 0.9859\n",
            "Epoch 35/50\n",
            "393/393 [==============================] - 30s 76ms/step - loss: 0.0233 - iou_score: 0.9647 - val_loss: 0.0076 - val_iou_score: 0.9859\n",
            "Epoch 36/50\n",
            "393/393 [==============================] - 30s 77ms/step - loss: 0.0232 - iou_score: 0.9647 - val_loss: 0.0075 - val_iou_score: 0.9859\n",
            "Epoch 37/50\n",
            "393/393 [==============================] - 30s 77ms/step - loss: 0.0231 - iou_score: 0.9647 - val_loss: 0.0074 - val_iou_score: 0.9859\n",
            "Epoch 38/50\n",
            "393/393 [==============================] - 30s 77ms/step - loss: 0.0231 - iou_score: 0.9647 - val_loss: 0.0074 - val_iou_score: 0.9859\n",
            "Epoch 39/50\n",
            "393/393 [==============================] - 30s 78ms/step - loss: 0.0231 - iou_score: 0.9647 - val_loss: 0.0074 - val_iou_score: 0.9859\n",
            "Epoch 40/50\n",
            "393/393 [==============================] - 30s 77ms/step - loss: 0.0231 - iou_score: 0.9647 - val_loss: 0.0074 - val_iou_score: 0.9859\n",
            "Epoch 41/50\n",
            "393/393 [==============================] - 31s 78ms/step - loss: 0.0230 - iou_score: 0.9647 - val_loss: 0.0074 - val_iou_score: 0.9859\n",
            "Epoch 42/50\n",
            "393/393 [==============================] - 30s 77ms/step - loss: 0.0230 - iou_score: 0.9647 - val_loss: 0.0074 - val_iou_score: 0.9859\n",
            "Epoch 43/50\n",
            "393/393 [==============================] - 30s 77ms/step - loss: 0.0230 - iou_score: 0.9647 - val_loss: 0.0073 - val_iou_score: 0.9859\n",
            "Epoch 44/50\n",
            "393/393 [==============================] - 30s 77ms/step - loss: 0.0230 - iou_score: 0.9647 - val_loss: 0.0073 - val_iou_score: 0.9859\n",
            "Epoch 45/50\n",
            "393/393 [==============================] - 31s 78ms/step - loss: 0.0230 - iou_score: 0.9647 - val_loss: 0.0073 - val_iou_score: 0.9859\n",
            "Epoch 46/50\n",
            "393/393 [==============================] - 30s 77ms/step - loss: 0.0230 - iou_score: 0.9647 - val_loss: 0.0073 - val_iou_score: 0.9859\n",
            "Epoch 47/50\n",
            "393/393 [==============================] - 30s 77ms/step - loss: 0.0230 - iou_score: 0.9647 - val_loss: 0.0073 - val_iou_score: 0.9859\n",
            "Epoch 48/50\n",
            "393/393 [==============================] - 30s 77ms/step - loss: 0.0230 - iou_score: 0.9647 - val_loss: 0.0073 - val_iou_score: 0.9859\n",
            "Epoch 49/50\n",
            "393/393 [==============================] - 30s 77ms/step - loss: 0.0230 - iou_score: 0.9647 - val_loss: 0.0073 - val_iou_score: 0.9859\n",
            "Epoch 50/50\n",
            "393/393 [==============================] - 30s 77ms/step - loss: 0.0230 - iou_score: 0.9647 - val_loss: 0.0073 - val_iou_score: 0.9859\n"
          ]
        }
      ]
    },
    {
      "cell_type": "code",
      "source": [
        "image = cv2.imread(X_test['image'][5], cv2.IMREAD_UNCHANGED)\n",
        "image = cv2.resize(image, (512,512)) \n",
        "#predicted segmentation map\n",
        "predicted  = model.predict(image[np.newaxis,:,:,:])\n",
        "#original segmentation map\n",
        "image_mask = cv2.imread(X_test['mask'][5], cv2.IMREAD_UNCHANGED)\n",
        "image_mask = cv2.resize(image_mask, (512,512))\n",
        "plt.figure(figsize=(10,6))\n",
        "plt.subplot(131)\n",
        "plt.imshow(image)\n",
        "plt.subplot(132)\n",
        "plt.imshow(image_mask)\n",
        "plt.subplot(133)\n",
        "plt.imshow(predicted[0,:,:,2])\n",
        "plt.show()"
      ],
      "metadata": {
        "colab": {
          "base_uri": "https://localhost:8080/",
          "height": 234
        },
        "id": "8Nmg6WiLd3fb",
        "outputId": "57745d34-fe96-431d-c75f-814b4f96e203"
      },
      "execution_count": 70,
      "outputs": [
        {
          "output_type": "stream",
          "name": "stdout",
          "text": [
            "1/1 [==============================] - 0s 22ms/step\n"
          ]
        },
        {
          "output_type": "display_data",
          "data": {
            "text/plain": [
              "<Figure size 720x432 with 3 Axes>"
            ],
            "image/png": "[encoded data removed]"
          },
          "metadata": {
            "needs_background": "light"
          }
        }
      ]
    }
  ]
}